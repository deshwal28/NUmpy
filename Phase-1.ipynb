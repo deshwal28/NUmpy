{
 "cells": [
  {
   "cell_type": "markdown",
   "id": "214ac586",
   "metadata": {},
   "source": [
    "## Numpy array and basics\n",
    "learn about numpy"
   ]
  },
  {
   "cell_type": "code",
   "execution_count": 12,
   "id": "f376e8bf",
   "metadata": {},
   "outputs": [],
   "source": [
    "import numpy as np"
   ]
  },
  {
   "cell_type": "markdown",
   "id": "267988a3",
   "metadata": {},
   "source": [
    "### creating array from list\n"
   ]
  },
  {
   "cell_type": "code",
   "execution_count": 13,
   "id": "4773d66c",
   "metadata": {},
   "outputs": [
    {
     "name": "stdout",
     "output_type": "stream",
     "text": [
      "1D array :  [1 2 3 4 5]\n",
      "2D array: [[1 2 3]\n",
      " [4 5 6]]\n"
     ]
    }
   ],
   "source": [
    "arr_1d =np.array([1,2,3,4,5])\n",
    "print(\"1D array : \",arr_1d)\n",
    "arr_2d =np.array([[1,2,3],[4,5,6]])\n",
    "print(\"2D array:\",arr_2d)"
   ]
  },
  {
   "cell_type": "markdown",
   "id": "924d11f6",
   "metadata": {},
   "source": [
    "### List vs numpy Array"
   ]
  },
  {
   "cell_type": "code",
   "execution_count": 14,
   "id": "d1e9d826",
   "metadata": {},
   "outputs": [
    {
     "name": "stdout",
     "output_type": "stream",
     "text": [
      "Python list multiplication [1, 2, 3, 1, 2, 3]\n",
      "Python array multiplication [2 4 6]\n",
      "\n",
      " list operation time : 0.054841041564941406\n",
      "\n",
      " Numpy operation time: 0.0071146488189697266\n"
     ]
    }
   ],
   "source": [
    "py_list = [1,2,3]\n",
    "print(\"Python list multiplication\",py_list * 2)\n",
    "np_array = np.array([1,2,3])\n",
    "print(\"Python array multiplication\",np_array *2)\n",
    "import time \n",
    "start =time.time()\n",
    "py_list = [i*2 for i in range(1000000)]\n",
    "print(\"\\n list operation time :\",time.time()-start)\n",
    "start = time.time()\n",
    "np_array = np.arange(1000000)*2\n",
    "print(\"\\n Numpy operation time:\",time.time()-start)"
   ]
  },
  {
   "cell_type": "markdown",
   "id": "e04508dd",
   "metadata": {},
   "source": [
    "### creating array from scratch\n"
   ]
  },
  {
   "cell_type": "code",
   "execution_count": 15,
   "id": "0742f269",
   "metadata": {},
   "outputs": [
    {
     "name": "stdout",
     "output_type": "stream",
     "text": [
      "zeros array:\n",
      " [[0. 0. 0. 0.]\n",
      " [0. 0. 0. 0.]\n",
      " [0. 0. 0. 0.]]\n",
      "one array:\n",
      " [[1. 1. 1.]\n",
      " [1. 1. 1.]]\n",
      "full array:\n",
      " [[7 7]\n",
      " [7 7]]\n",
      "random array:\n",
      " [[0.63237509 0.9530496  0.63028667]\n",
      " [0.19908318 0.93646532 0.33166593]]\n"
     ]
    }
   ],
   "source": [
    "zeros = np.zeros((3,4))\n",
    "print(\"zeros array:\\n\",zeros)\n",
    "ones = np.ones((2,3))\n",
    "print(\"one array:\\n\",ones)\n",
    "full = np.full((2,2),7)\n",
    "print(\"full array:\\n\",full)\n",
    "random = np.random.random((2,3))\n",
    "print(\"random array:\\n\",random)\n",
    "sequence = np.arange(0,10 )"
   ]
  },
  {
   "cell_type": "markdown",
   "id": "c9b106f1",
   "metadata": {},
   "source": [
    "Vector,Matrix and Tensor \n"
   ]
  },
  {
   "cell_type": "code",
   "execution_count": 16,
   "id": "759fd5c5",
   "metadata": {},
   "outputs": [
    {
     "name": "stdout",
     "output_type": "stream",
     "text": [
      "Vector: [1 2 3]\n",
      "Matrix: [[1 2 3]\n",
      " [4 5 6]]\n",
      "Tensor: [[[1 2]\n",
      "  [3 4]]\n",
      "\n",
      " [[5 6]\n",
      "  [7 8]]]\n"
     ]
    }
   ],
   "source": [
    "vector = np.array([1,2,3])\n",
    "print(\"Vector:\",vector)\n",
    "matrix = np.array([[1,2,3],[4,5,6]])\n",
    "print(\"Matrix:\",matrix)\n",
    "tensor = np.array([[[1,2],[3,4]],[[5,6],[7,8]]])\n",
    "print(\"Tensor:\",tensor)"
   ]
  },
  {
   "cell_type": "markdown",
   "id": "433931f7",
   "metadata": {},
   "source": [
    "Array Properties"
   ]
  },
  {
   "cell_type": "code",
   "execution_count": 17,
   "id": "d113d87a",
   "metadata": {},
   "outputs": [
    {
     "name": "stdout",
     "output_type": "stream",
     "text": [
      "shape (2, 3)\n",
      "size 6\n",
      "Dimension 2\n",
      "DType int64\n"
     ]
    }
   ],
   "source": [
    "arr = np.array([[1,2,3],[4,5,6]])\n",
    "print(\"shape\",arr.shape)\n",
    "print(\"size\",arr.size)\n",
    "print(\"Dimension\",arr.ndim)\n",
    "print(\"DType\",arr.dtype)"
   ]
  },
  {
   "cell_type": "markdown",
   "id": "38068c9c",
   "metadata": {},
   "source": [
    "## Array Reshaping "
   ]
  },
  {
   "cell_type": "code",
   "execution_count": 18,
   "id": "a456b653",
   "metadata": {},
   "outputs": [
    {
     "name": "stdout",
     "output_type": "stream",
     "text": [
      "Original array [ 0  1  2  3  4  5  6  7  8  9 10 11]\n",
      "\n",
      " Reshaped aaray [[ 0  1  2  3]\n",
      " [ 4  5  6  7]\n",
      " [ 8  9 10 11]]\n",
      "\n",
      " Flattened array [ 0  1  2  3  4  5  6  7  8  9 10 11]\n",
      "\n",
      " reveled array [ 0  1  2  3  4  5  6  7  8  9 10 11]\n",
      "\n",
      " Transposed array [[ 0  4  8]\n",
      " [ 1  5  9]\n",
      " [ 2  6 10]\n",
      " [ 3  7 11]]\n"
     ]
    }
   ],
   "source": [
    "arr = np.arange(12)\n",
    "print(\"Original array\",arr)\n",
    "\n",
    "reshaped = arr.reshape((3,4))\n",
    "print(\"\\n Reshaped aaray\",reshaped)\n",
    "flattened = reshaped.flatten()\n",
    "print(\"\\n Flattened array\",flattened)\n",
    "raveled = reshaped.ravel()\n",
    "print(\"\\n reveled array\",raveled) \n",
    "transpose = reshaped.T\n",
    "print(\"\\n Transposed array\", transpose)\n",
    "\n",
    "\n"
   ]
  }
 ],
 "metadata": {
  "kernelspec": {
   "display_name": "env",
   "language": "python",
   "name": "python3"
  },
  "language_info": {
   "codemirror_mode": {
    "name": "ipython",
    "version": 3
   },
   "file_extension": ".py",
   "mimetype": "text/x-python",
   "name": "python",
   "nbconvert_exporter": "python",
   "pygments_lexer": "ipython3",
   "version": "3.13.2"
  }
 },
 "nbformat": 4,
 "nbformat_minor": 5
}
